{
 "cells": [
  {
   "cell_type": "markdown",
   "metadata": {},
   "source": [
    "# Exceptions"
   ]
  },
  {
   "cell_type": "markdown",
   "metadata": {},
   "source": [
    "Sicherlich sind ihr schon einmal auf \"Exceptions\" gestoßen - die Fehlermeldungen, die erscheinen, wenn ihr Python auffordert, etwas zu tun, was es nicht mag. Der folgende Code löst zum Beispiel eine Ausnahme aus:"
   ]
  },
  {
   "cell_type": "markdown",
   "metadata": {},
   "source": [
    "```python\n",
    "a = [1, 2, 3]\n",
    "print(a[4])"
   ]
  },
  {
   "cell_type": "markdown",
   "metadata": {},
   "source": [
    "Der Versuch, diesen Code auszuführen, führt zu einem ähnlichen Text wie diesem:"
   ]
  },
  {
   "cell_type": "markdown",
   "metadata": {},
   "source": [
    "```python\n",
    "---------------------------------------------------------------------------\n",
    "IndexError                                Traceback (most recent call last)\n",
    "<ipython-input-1-ba5ce40e4136> in <module>()\n",
    "      1 a = [1, 2, 3]\n",
    "----> 2 print(a[4])\n",
    "\n",
    "IndexError: list index out of range\n",
    "```"
   ]
  },
  {
   "cell_type": "markdown",
   "metadata": {},
   "source": [
    "Der Fehler liegt darin, dass wir versucht haben, auf das 5. Element von a zuzugreifen (denkt daran, die Zählung beginnt bei Null!), a aber nur drei Einträge enthält."
   ]
  },
  {
   "cell_type": "markdown",
   "metadata": {},
   "source": [
    "Ein weiteres Beispiel könnte sein:"
   ]
  },
  {
   "cell_type": "markdown",
   "metadata": {},
   "source": [
    "```python\n",
    "a = 1 + 'hello'"
   ]
  },
  {
   "cell_type": "markdown",
   "metadata": {},
   "source": [
    "die folgendes erzeugt:"
   ]
  },
  {
   "cell_type": "markdown",
   "metadata": {},
   "source": [
    "```python\n",
    "---------------------------------------------------------------------------\n",
    "TypeError                                 Traceback (most recent call last)\n",
    "<ipython-input-2-41d1b959c123> in <module>()\n",
    "----> 1 1 + 'hello'\n",
    "\n",
    "TypeError: unsupported operand type(s) for +: 'int' and 'str'\n",
    "```"
   ]
  },
  {
   "cell_type": "markdown",
   "metadata": {},
   "source": [
    "Beachtet, dass diese beiden Fehlermeldungen unterschiedliche Überschriften haben: die erste ist ein IndexError, die zweite ein TypeError. Ihr werdet feststellen, dass es eine Vielzahl anderer Fehlerarten gibt."
   ]
  },
  {
   "cell_type": "markdown",
   "metadata": {},
   "source": [
    "Wenn es sich bei diesen Fehlern einfach nur um Programmierfehler handelt, ist es sinnvoll, das Programm sofort zu beenden, damit wir den Fehler beheben können. In \"echtem\" Code können diese Arten von Problemen jedoch aus Gründen auftreten, die sich der Kontrolle des Programmierers entziehen - vielleicht hat der Benutzer z. B. einen falschen Satz von Eingaben eingegeben. Daher ist es oft nützlich, Ausnahmen \"abzufangen\" und auf elegante Art und Weise zu behandeln."
   ]
  },
  {
   "cell_type": "markdown",
   "metadata": {},
   "source": [
    "Zu diesem Zweck bietet Python das Konstrukt `try... except...` an. Dies sieht wie folgt aus:"
   ]
  },
  {
   "cell_type": "markdown",
   "metadata": {},
   "source": [
    "```python\n",
    "try:\n",
    "    [code that may fail]\n",
    "except:\n",
    "    [code to handle the error]\n",
    "```"
   ]
  },
  {
   "cell_type": "markdown",
   "metadata": {},
   "source": [
    "Wenn ein `try...except...`-Konstrukt angetroffen wird, versucht Python zunächst, den gesamten Code innerhalb des eingerückten try-Blocks auszuführen. Wenn dies erfolgreich ist, wird der Code innerhalb des except-Blocks nie ausgeführt. Sobald jedoch ein Fehler auftritt, unterbricht Python den Versuch, den try-Block auszuführen, und springt sofort zur ersten Zeile des except-Blocks. Es führt alles im except-Block aus und fährt dann (vorausgesetzt, es treten keine weiteren Fehler auf) mit der ersten Zeile nach dem `try...except...`-Konstrukt fort."
   ]
  },
  {
   "cell_type": "markdown",
   "metadata": {},
   "source": [
    "So zum Beispiel:"
   ]
  },
  {
   "cell_type": "markdown",
   "metadata": {},
   "source": [
    "```python\n",
    "try:\n",
    "    x = float(input('Please enter a number: '))\n",
    "    print(\"The next number is: \", x+1)\n",
    "except:\n",
    "    print(\"Sorry, that is not a valid number\")\n",
    "```"
   ]
  },
  {
   "cell_type": "markdown",
   "metadata": {},
   "source": [
    "behandelt die Fälle, in denen der Benutzer Text in das Eingabefeld eintippt, auf elegante Weise."
   ]
  },
  {
   "cell_type": "markdown",
   "metadata": {},
   "source": [
    "--> Probieren es aus! Vergleicht, wie sich Python mit und ohne das try...except...-Konstrukt verhält."
   ]
  },
  {
   "cell_type": "code",
   "execution_count": null,
   "metadata": {},
   "outputs": [],
   "source": [
    "# Versucht es hier!"
   ]
  },
  {
   "cell_type": "markdown",
   "metadata": {},
   "source": [
    "Diese Art der Fehlerbehandlung wird manchmal als \"EAFP\"-Modell bezeichnet: \"Es ist einfacher, um Vergebung zu bitten als um Erlaubnis\". Anstatt zu versuchen, vor der Ausführung einer Operation zu überprüfen, ob alles korrekt ist - ein Prozess, der mühsam und rechnerisch ineffizient sein kann -, gehen wir zunächst davon aus, dass alles funktionieren wird, und kümmern uns dann um jedes Chaos, das wir verursachen."
   ]
  },
  {
   "cell_type": "markdown",
   "metadata": {},
   "source": [
    "\n",
    "Unsere obige Anweisung `try... except...` kümmert sich um jede Art von Fehler, der auftreten könnte. Dies mag oberflächlich betrachtet attraktiv erscheinen, kann aber zu Verwirrung führen. Nehmen wir zum Beispiel an, dass wir in unserem Code einen Tippfehler gemacht haben, der sich auf eine Variable z bezieht (die es nicht gibt):"
   ]
  },
  {
   "cell_type": "markdown",
   "metadata": {},
   "source": [
    "```python\n",
    "try:\n",
    "    x = float(input('Please enter a number: '))\n",
    "    print(\"The next number is: \", z+1)\n",
    "except:\n",
    "    print(\"Sorry, that is not a valid number\")\n",
    "```"
   ]
  },
  {
   "cell_type": "markdown",
   "metadata": {},
   "source": [
    "Jetzt wird immer beanstandet, dass wir eine ungültige Zahl eingegeben haben - auch wenn das nicht das eigentliche Problem ist. Wenn wir das try... except... entfernen, sehen wir, dass dieser Code einen NameError auslöst und nicht den ValueError, den wir eigentlich vermeiden wollten. Wäre dies \"echter\" Code, würden wir viel Zeit damit verschwenden, herauszufinden, warum Python dachte, wir würden ungültige Zahlen eingeben."
   ]
  },
  {
   "cell_type": "code",
   "execution_count": null,
   "metadata": {},
   "outputs": [],
   "source": [
    "# Versucht es hier!"
   ]
  },
  {
   "cell_type": "markdown",
   "metadata": {},
   "source": [
    "Um dies zu vermeiden, können wir angeben, welche Art von Fehlern der except-Block behandeln soll:"
   ]
  },
  {
   "cell_type": "markdown",
   "metadata": {},
   "source": [
    "```python\n",
    "try:\n",
    "    x = float(input('Please enter a number: '))\n",
    "    print(\"The next number is: \", z+1)\n",
    "except ValueError:\n",
    "    print(\"Sorry, that is not a valid number\")\n",
    "```"
   ]
  },
  {
   "cell_type": "markdown",
   "metadata": {},
   "source": [
    "Unser Tippfehler wird offensichtlich sein, wenn wir versuchen, den Code auszuführen, aber sobald er behoben ist, wird alles wie erwartet funktionieren. Falls erforderlich, können wir eine Ausnahme haben, die mehrere Arten von Ausnahmen abfängt"
   ]
  },
  {
   "cell_type": "markdown",
   "metadata": {},
   "source": [
    "```python\n",
    "try:\n",
    "    [code]\n",
    "except ValueError, TypeError:\n",
    "    [code]"
   ]
  },
  {
   "cell_type": "markdown",
   "metadata": {},
   "source": [
    "und wir können mehrere Ausnahmeblöcke haben, um verschiedene Fehler auf verschiedene Weise zu behandeln:"
   ]
  },
  {
   "cell_type": "markdown",
   "metadata": {},
   "source": [
    "```python\n",
    "try:\n",
    "    [code]\n",
    "except ValueError:\n",
    "    [code]\n",
    "except TypeError:\n",
    "    [code]\n",
    "except:\n",
    "    [code]\n",
    "```"
   ]
  },
  {
   "cell_type": "markdown",
   "metadata": {},
   "source": [
    "Im obigen Beispiel ist die \"bloße\" Ausnahme am Ende optional und fängt alle Fehler ab, die nicht zu einem der \"benannten\" Ausnahmebehandler passen. Zum Beispiel:"
   ]
  },
  {
   "cell_type": "markdown",
   "metadata": {},
   "source": [
    "```python\n",
    "try:\n",
    "    x = float(input('Please enter a number: '))\n",
    "    print(\"The next number is: \", z+1)\n",
    "except ValueError:\n",
    "    print(\"Sorry, that is not a valid number\")\n",
    "except:\n",
    "    print(\"Something unexpected happened\")\n",
    "```"
   ]
  },
  {
   "cell_type": "markdown",
   "metadata": {},
   "source": [
    "wird den Fehler, der durch unseren Tippfehler entstanden ist, auffangen."
   ]
  },
  {
   "cell_type": "code",
   "execution_count": null,
   "metadata": {},
   "outputs": [],
   "source": [
    "# Versucht es hier!"
   ]
  },
  {
   "cell_type": "markdown",
   "metadata": {},
   "source": [
    "Die Behandlung von Ausnahmen kann manchmal ein zentraler Teil eures Codeentwurfs sein. Nehmen wir an, ihr müsst ein Stück Code schreiben, um die Einträge in einer Liste zu summieren (und ihr haben vergessen, dass es dafür Pythons Funktion sum() gibt). Eine Lösung (die sauberste und daher die beste) wäre es, eine Schleife über die Einträge im Array zu ziehen:"
   ]
  },
  {
   "cell_type": "markdown",
   "metadata": {},
   "source": [
    "```python\n",
    "a = [1, 3, 6]\n",
    "s = 0\n",
    "for x in a:\n",
    "    s += x\n",
    "print(s)\n",
    "```"
   ]
  },
  {
   "cell_type": "markdown",
   "metadata": {},
   "source": [
    "Ihr könntet aber auch etwas schreiben wie:"
   ]
  },
  {
   "cell_type": "markdown",
   "metadata": {},
   "source": [
    "```python\n",
    "a = [1, 3, 6]\n",
    "i = 0\n",
    "s = 0\n",
    "while True:\n",
    "    try:\n",
    "        s += a[i]\n",
    "    except IndexError:\n",
    "        break\n",
    "    i+=1\n",
    "print(s)\n",
    "```"
   ]
  },
  {
   "cell_type": "markdown",
   "metadata": {},
   "source": [
    "Obwohl dies für ein so einfaches Beispiel unnötig kompliziert ist, zeigt es doch, wie die Behandlung von Ausnahmen zur Kontrolle des Programmablaufs verwendet werden kann."
   ]
  },
  {
   "cell_type": "code",
   "execution_count": null,
   "metadata": {},
   "outputs": [],
   "source": [
    "# Versucht es hier!"
   ]
  },
  {
   "cell_type": "markdown",
   "metadata": {},
   "source": [
    "Es ist verlockend, `try...except...`-Klauseln zu oft zu verwenden, um Pythons eingebaute Fehlermeldungen zu unterdrücken. Im Allgemeinen ist dies ein Fehler, da es dadurch schwieriger wird, die Ursachen von Fehlern zu identifizieren. Es ist am besten, `try...except...` nur dann zu verwenden, wenn es notwendig ist, um \"vorhersehbare\" Fehlerfälle zu behandeln, oder in Produktionscode."
   ]
  },
  {
   "cell_type": "markdown",
   "metadata": {},
   "source": [
    "Manchmal ist es nützlich, mehr Informationen über den genauen Fehler, der aufgetreten ist, abrufen zu können. Dies kann durch eine Änderung der except-Anweisung erreicht werden:"
   ]
  },
  {
   "cell_type": "markdown",
   "metadata": {},
   "source": [
    "```python\n",
    "try:\n",
    "    [code]\n",
    "except <ErrorType> as <variable>:\n",
    "    [code]"
   ]
  },
  {
   "cell_type": "markdown",
   "metadata": {},
   "source": [
    "Ein Beispiel:"
   ]
  },
  {
   "cell_type": "markdown",
   "metadata": {},
   "source": [
    "```python\n",
    "try:\n",
    "    x = 1 + 'hello'\n",
    "except TypeError as err:\n",
    "    print(\"There is an error\")\n",
    "    print(err)\n",
    "```"
   ]
  },
  {
   "cell_type": "markdown",
   "metadata": {},
   "source": [
    "Wenn nun ein `TypeError` ausgelöst wird, erstellt Python die Variable err und setzt sie so, dass sie einige detailliertere Informationen über den Fehler enthält. Wir können diese dann verwenden, um einen detaillierteren Bericht zu erstellen oder um uns bei der Behandlung des Problems zu helfen. Verschiedene Fehlertypen können unterschiedliche Informationen in der Variablen speichern."
   ]
  },
  {
   "cell_type": "code",
   "execution_count": null,
   "metadata": {},
   "outputs": [],
   "source": [
    "# Versucht es hier!"
   ]
  },
  {
   "cell_type": "markdown",
   "metadata": {},
   "source": [
    "Manchmal gibt es Code, den ihr unabhängig davon ausführen möchten, ob ein Fehler auftritt oder nicht. Zum Beispiel möchtet ihr vielleicht Informationen über den Stand eures Programms speichern oder temporäre Dateien löschen. Hierfür bietet Python eine Variante von `try...except...`:"
   ]
  },
  {
   "cell_type": "markdown",
   "metadata": {},
   "source": [
    "```python\n",
    "try:\n",
    "    [code]\n",
    "finally:\n",
    "    [code]\n",
    "```"
   ]
  },
  {
   "cell_type": "markdown",
   "metadata": {},
   "source": [
    "Der Code innerhalb des finally-Blocks wird immer ausgeführt, entweder nachdem alles in try erfolgreich abgeschlossen wurde, oder bevor ein Fehler auftritt. Zum Beispiel:"
   ]
  },
  {
   "cell_type": "markdown",
   "metadata": {},
   "source": [
    "```python\n",
    "try:\n",
    "    s = 0\n",
    "    for x in [1, 2, 3, 'x']:\n",
    "        s += x\n",
    "finally:\n",
    "    print(\"Diese Zeile wird gedruckt, *bevor* der Fehler ausgelöst wird...\")\n",
    "    print(s)\n",
    "```"
   ]
  },
  {
   "cell_type": "markdown",
   "metadata": {},
   "source": [
    "Wenn `try...finally...` in einer Funktion vorkommt und `finally` eine return-Anweisung enthält, wird der Fehler nie ausgelöst. Wenn `try...finally...` in einer Schleife vorkommt und `finally` eine `break`-Anweisung enthält, wird der Fehler ebenfalls verworfen."
   ]
  },
  {
   "cell_type": "code",
   "execution_count": null,
   "metadata": {},
   "outputs": [],
   "source": [
    "# Versucht es hier!"
   ]
  },
  {
   "cell_type": "markdown",
   "metadata": {},
   "source": [
    "Mit Python könnt ihr auch Fehler in eurem Code auslösen und damit die bereits beschriebenen Mechanismen zur Fehlerbehandlung in Gang setzen. Dies wird durch den Befehl"
   ]
  },
  {
   "cell_type": "markdown",
   "metadata": {},
   "source": [
    "```python\n",
    "raise <ErrorType>"
   ]
  },
  {
   "cell_type": "markdown",
   "metadata": {},
   "source": [
    "oder"
   ]
  },
  {
   "cell_type": "markdown",
   "metadata": {},
   "source": [
    "```python\n",
    "raise <ErrorType>(<message>)"
   ]
  },
  {
   "cell_type": "markdown",
   "metadata": {},
   "source": [
    "Zum Beispiel:"
   ]
  },
  {
   "cell_type": "markdown",
   "metadata": {},
   "source": [
    "```python\n",
    "raise IndexError"
   ]
  },
  {
   "cell_type": "markdown",
   "metadata": {},
   "source": [
    "oder"
   ]
  },
  {
   "cell_type": "markdown",
   "metadata": {},
   "source": [
    "```python\n",
    "raise IndexError(\"Dies ist ein Beispiel\")"
   ]
  },
  {
   "cell_type": "markdown",
   "metadata": {},
   "source": [
    "Eine Datei `data.txt` ist im Data-Ordner vorhanden. Benutzt die Fähigkeiten, die ihr in den letzten Übungen erworben haben, um eine Funktion zu erstellen, die diese Datei lädt und die beiden Spalten miteinander multipliziert. Führt die Summe für jede Zeile aus. Wenn die Summe von 100 abweicht, löst einen ValueError mit der Meldung aus, dass die Summe der Spalten 100 sein sollte."
   ]
  },
  {
   "cell_type": "code",
   "execution_count": null,
   "metadata": {},
   "outputs": [],
   "source": [
    "# Versucht es hier!"
   ]
  },
  {
   "cell_type": "markdown",
   "metadata": {},
   "source": [
    "In Verbindung mit `try...except...` kann `raise` einen effektiven Mechanismus zur Kontrolle des Programmflusses darstellen, da eine innerhalb einer Funktion (innerhalb einer anderen Funktion, innerhalb...) ausgelöste Ausnahme abgefangen und auf der obersten Ebene behandelt werden kann. Zum Beispiel könnte man etwas schreiben wie:"
   ]
  },
  {
   "cell_type": "markdown",
   "metadata": {},
   "source": [
    "```python\n",
    "\n",
    "# Beispiel wie sowas aussehen könnte\n",
    "\n",
    "def check_consistency(datafile_lines):\n",
    "    # Prüft, ob der Inhalt der Datendatei selbstkonsistent ist.\n",
    "    [...]\n",
    "    if [...]:\n",
    "        # Datei ist gut\n",
    "        return True\n",
    "    else:\n",
    "        return False\n",
    "   \n",
    "def load_datafile(...):\n",
    "    # Daten aus Datei laden\n",
    "    with open(datafile, 'r') as fp:\n",
    "        lines = fp.readlines()\n",
    "        [...]\n",
    "        if not check_consistency(lines): \n",
    "            raise IOError(\"Datendatei ist nicht selbstkonsistent\")\n",
    "            \n",
    "def restart_calculation(...):\n",
    "    # Versuch, eine unterbrochene Berechnung fortzusetzen\n",
    "    [...]\n",
    "    load_datafile(...)\n",
    "    [...]\n",
    "\n",
    "def program_startup(...):\n",
    "    [...]\n",
    "    try:\n",
    "        restart_calcuation(...)\n",
    "    except IOError:\n",
    "        start_new_calculation(...)"
   ]
  },
  {
   "cell_type": "markdown",
   "metadata": {},
   "source": [
    "Hier versucht die `program_startup`-Routine, eine bestehende, frühere Berechnung auf der Grundlage von Informationen in einer Datei neu zu starten, aber wenn das Lesen dieser Datei aus irgendeinem Grund fehlschlägt, wird die Berechnung einfach neu gestartet."
   ]
  }
 ],
 "metadata": {
  "language_info": {
   "name": "python"
  }
 },
 "nbformat": 4,
 "nbformat_minor": 2
}
