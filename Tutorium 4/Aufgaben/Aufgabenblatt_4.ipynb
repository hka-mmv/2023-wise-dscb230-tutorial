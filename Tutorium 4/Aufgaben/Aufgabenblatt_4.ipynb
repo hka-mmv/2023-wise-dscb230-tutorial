{
 "cells": [
  {
   "cell_type": "markdown",
   "metadata": {},
   "source": [
    "# map, filter, lambda"
   ]
  },
  {
   "cell_type": "code",
   "execution_count": null,
   "metadata": {},
   "outputs": [],
   "source": [
    "# Übungsblatt für Python\n",
    "\n",
    "\"\"\"\n",
    "Ziel: In diesem Übungsblatt werden Sie die map- und filter-Funktionen in Kombination\n",
    "mit lambda-Funktionen und regulären Funktionen verwenden, um verschiedene Aufgaben zu lösen.\n",
    "\"\"\"\n",
    "\n",
    "# Übung 1: Verdreifachen aller Zahlen einer Liste (map, lambda)\n",
    "# Anweisung: Erstellen Sie eine Liste von Zahlen von 1 bis 7.\n",
    "# Verwenden Sie die map-Funktion, um jede Zahl in der Liste zu verdreifachen.\n",
    "# Geben Sie die verdreifachten Zahlen aus.\n",
    "# TODO 1:\n",
    "\n",
    "nums = (1, 2, 3, 4, 5, 6, 7)\n"
   ]
  },
  {
   "cell_type": "code",
   "execution_count": null,
   "metadata": {},
   "outputs": [],
   "source": [
    "# Übung 2: Addieren von drei Listen (map, lambda)\n",
    "# Anweisung: Erstellen Sie drei Listen von Zahlen.\n",
    "# Verwenden Sie die map-Funktion, um die Zahlen aus den drei Listen zu addieren.\n",
    "# Geben Sie die resultierende Liste aus.\n",
    "# TODO 2:\n",
    "\n",
    "nums1 = [1, 2, 3, 4, 5]\n",
    "nums2 = [4, 5, 6, 7, 8]\n",
    "nums3 = [7, 8, 9, 10, 11]"
   ]
  },
  {
   "cell_type": "code",
   "execution_count": null,
   "metadata": {},
   "outputs": [],
   "source": [
    "# Übung 3: Studenten nach hohen Noten filtern (filter)\n",
    "# Anweisung: Gegeben ist eine Liste von Studenten mit Namen, Alter und Noten.\n",
    "# Verwenden Sie die filter-Funktion, um Studenten mit einer Note von 95 oder höher zu extrahieren.\n",
    "# Geben Sie die Liste der Studenten mit hohen Noten aus.\n",
    "# TODO 3:\n",
    "\n",
    "import random\n",
    "\n",
    "studenten = [\n",
    "    {\"name\": \"Sahin, Oguz\", \"alter\": 20, \"note\": random.randint(80, 100)},\n",
    "    {\"name\": \"Saur, Benjamin\", \"alter\": 21, \"note\": random.randint(80, 100)},\n",
    "    {\"name\": \"Schuh, Ferdinand\", \"alter\": 22, \"note\": random.randint(80, 100)},\n",
    "    {\"name\": \"Wiederstein, Jan-David\", \"alter\": 23, \"note\": random.randint(80, 100)},\n",
    "    {\"name\": \"Wolf, Yessica\", \"alter\": 24, \"note\": random.randint(80, 100)},\n",
    "    {\"name\": \"Schairer, Wladimir\", \"alter\": 27, \"note\": random.randint(80, 100)},\n",
    "    {\"name\": \"Brinkmann, Tua\", \"alter\": 19, \"note\": random.randint(80, 100)},\n",
    "    {\"name\": \"Decker, Isabel\", \"alter\": 29, \"note\": random.randint(80, 100)},\n",
    "    {\"name\": \"Dondelinger, Ben\", \"alter\": 20, \"note\": random.randint(80, 100)},\n",
    "    {\"name\": \"Duong, Achim\", \"alter\": 21, \"note\": random.randint(80, 100)},\n",
    "    {\"name\": \"Förderer, Moritz\", \"alter\": 22, \"note\": random.randint(80, 100)},\n",
    "    {\"name\": \"Kartal, Baran\", \"alter\": 23, \"note\": random.randint(80, 100)},\n",
    "    {\"name\": \"Komninos, David\", \"alter\": 24, \"note\": random.randint(80, 100)}\n",
    "]\n",
    "\n",
    "\n",
    "studenten_mit_hohen_noten = None"
   ]
  },
  {
   "cell_type": "code",
   "execution_count": null,
   "metadata": {},
   "outputs": [],
   "source": [
    "# Zum Testen für Aufgabe 3\n",
    "def tabellarische_ausgabe(studenten_liste):\n",
    "    # Kopfzeile der Tabelle\n",
    "    print(\"-\" * 80)\n",
    "    print(f\"{'Name':<40}{'Alter':<10}{'Note':<10}\")\n",
    "    print(\"-\" * 80)\n",
    "    \n",
    "    # Daten der Studenten\n",
    "    for student in studenten_liste:\n",
    "        print(f\"{student['name']:<40}{student['alter']:<10}{student['note']:<10}\")\n",
    "    print(\"-\" * 80)\n",
    "\n",
    "print(\"Alle Studenten:\")\n",
    "tabellarische_ausgabe(studenten)\n",
    "\n",
    "print(\"\\nStudenten mit hohen Noten:\")\n",
    "tabellarische_ausgabe(studenten_mit_hohen_noten)\n"
   ]
  },
  {
   "cell_type": "code",
   "execution_count": null,
   "metadata": {},
   "outputs": [],
   "source": [
    "# Übung 4: Wörter mit mehr als fünf Buchstaben extrahieren (filter)\n",
    "# Anweisung: Gegeben ist eine Liste von Wörtern.\n",
    "# Verwenden Sie die filter-Funktion, um Wörter aus der Liste zu extrahieren, die mehr als fünf Buchstaben haben.\n",
    "# Geben Sie die Liste der langen Wörter aus.\n",
    "# TODO 4:\n",
    "\n",
    "woerter = [\"Rot\", \"Grün\", \"Orange\", \"Weiß\", \"Schwarz\", \"Rosa\", \"Gelb\", \"Blau\", \"Lila\", \"Braun\", \"Grau\", \"Gold\", \"Silber\", \"Bronze\", \"Kupfer\"]\n",
    "\n"
   ]
  }
 ],
 "metadata": {
  "language_info": {
   "name": "python"
  }
 },
 "nbformat": 4,
 "nbformat_minor": 2
}
