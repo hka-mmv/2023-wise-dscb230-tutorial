{
 "cells": [
  {
   "cell_type": "markdown",
   "metadata": {},
   "source": [
    "# Willkommen im 4. Tut für Info 2"
   ]
  },
  {
   "cell_type": "markdown",
   "metadata": {},
   "source": [
    "# Heutige Themen: map-, filter-, lambda- functions"
   ]
  },
  {
   "cell_type": "code",
   "execution_count": 1,
   "metadata": {},
   "outputs": [
    {
     "name": "stdout",
     "output_type": "stream",
     "text": [
      "Verdreifachte Zahlen der Liste: [3, 6, 9, 12, 15, 18, 21]\n"
     ]
    }
   ],
   "source": [
    "# TODO 1: Verdreifachen aller Zahlen einer Liste mit der map-Funktion\n",
    "\n",
    "# Die map-Funktion wird verwendet, um eine bestimmte Funktion auf jedes Element einer Liste oder eines anderen iterierbaren Objekts anzuwenden.\n",
    "# Hier verwenden wir die lambda-Funktion, um die Zahlen zu verdreifachen. Lambda-Funktionen sind kleine anonyme Funktionen, die in einer Zeile definiert werden können.\n",
    "\n",
    "nums = (1, 2, 3, 4, 5, 6, 7)\n",
    "result = map(lambda x: x * 3, nums)\n",
    "print(\"Verdreifachte Zahlen der Liste:\", list(result))"
   ]
  },
  {
   "cell_type": "code",
   "execution_count": 2,
   "metadata": {},
   "outputs": [
    {
     "name": "stdout",
     "output_type": "stream",
     "text": [
      "Neue Liste nach dem Addieren der drei Listen: [12, 15, 18, 21, 24]\n"
     ]
    }
   ],
   "source": [
    "# TODO 2: Addieren von drei Listen mit der map-Funktion und lambda\n",
    "\n",
    "# Hier verwenden wir wieder die map-Funktion, diesmal aber mit drei Listen. Die lambda-Funktion nimmt drei Argumente (x, y, z) und gibt ihre Summe zurück.\n",
    "\n",
    "nums1 = [1, 2, 3, 4, 5]\n",
    "nums2 = [4, 5, 6, 7, 8]\n",
    "nums3 = [7, 8, 9, 10, 11]\n",
    "\n",
    "result = map(lambda x, y, z: x + y + z, nums1, nums2, nums3)  # Für jedes Trio von Zahlen wird ihre Summe berechnet.\n",
    "\n",
    "# Alternativ ohne lamda-Funktion:\n",
    "# def add_drei(x, y, z):\n",
    "#     return x + y + z\n",
    "# result = map(add_drei, nums1, nums2, nums3)\n",
    "\n",
    "print(\"Neue Liste nach dem Addieren der drei Listen:\", list(result))"
   ]
  },
  {
   "cell_type": "code",
   "execution_count": 3,
   "metadata": {},
   "outputs": [
    {
     "name": "stdout",
     "output_type": "stream",
     "text": [
      "Studenten mit hohen Noten: [{'name': 'Sahin, Oguz', 'alter': 20, 'note': 100}, {'name': 'Decker, Isabel', 'alter': 29, 'note': 96}, {'name': 'Kartal, Baran', 'alter': 23, 'note': 98}]\n"
     ]
    }
   ],
   "source": [
    "import random\n",
    "\n",
    "# Übung 3: Studenten nach hohen Noten filtern\n",
    "\n",
    "# Hier definieren wir eine Liste von Wörterbüchern, die Informationen über Studenten enthalten.\n",
    "# Jedes Wörterbuch enthält den Namen, das Alter und die Note des Studenten.\n",
    "\n",
    "studenten = [\n",
    "    {\"name\": \"Sahin, Oguz\", \"alter\": 20, \"note\": random.randint(80, 100)},\n",
    "    {\"name\": \"Saur, Benjamin\", \"alter\": 21, \"note\": random.randint(80, 100)},\n",
    "    {\"name\": \"Schuh, Ferdinand\", \"alter\": 22, \"note\": random.randint(80, 100)},\n",
    "    {\"name\": \"Wiederstein, Jan-David\", \"alter\": 23, \"note\": random.randint(80, 100)},\n",
    "    {\"name\": \"Wolf, Yessica\", \"alter\": 24, \"note\": random.randint(80, 100)},\n",
    "    {\"name\": \"Schairer, Wladimir\", \"alter\": 27, \"note\": random.randint(80, 100)},\n",
    "    {\"name\": \"Brinkmann, Tua\", \"alter\": 19, \"note\": random.randint(80, 100)},\n",
    "    {\"name\": \"Decker, Isabel\", \"alter\": 29, \"note\": random.randint(80, 100)},\n",
    "    {\"name\": \"Dondelinger, Ben\", \"alter\": 20, \"note\": random.randint(80, 100)},\n",
    "    {\"name\": \"Duong, Achim\", \"alter\": 21, \"note\": random.randint(80, 100)},\n",
    "    {\"name\": \"Förderer, Moritz\", \"alter\": 22, \"note\": random.randint(80, 100)},\n",
    "    {\"name\": \"Kartal, Baran\", \"alter\": 23, \"note\": random.randint(80, 100)},\n",
    "    {\"name\": \"Komninos, David\", \"alter\": 24, \"note\": random.randint(80, 100)}\n",
    "]\n",
    "\n",
    "# Hier definieren wir eine Funktion, die überprüft, ob die Note eines Studenten 95 oder höher ist.\n",
    "def hat_hohe_note(student):\n",
    "    return student[\"note\"] >= 95\n",
    "\n",
    "# Wir verwenden die filter-Funktion, um Studenten aus der Liste 'studenten' zu extrahieren, die die Bedingung erfüllen, die in der Funktion 'hat_hohe_note' definiert ist.\n",
    "studenten_mit_hohen_noten = list(filter(hat_hohe_note, studenten))\n",
    "# mit lambda function\n",
    "#studenten_mit_hohen_noten = list(filter(lambda student: student[\"note\"] >= 95, studenten))\n",
    "\n",
    "print(\"Studenten mit hohen Noten:\", studenten_mit_hohen_noten)\n",
    "\n",
    "#print(studenten)\n"
   ]
  },
  {
   "cell_type": "code",
   "execution_count": 4,
   "metadata": {},
   "outputs": [
    {
     "name": "stdout",
     "output_type": "stream",
     "text": [
      "Alle Studenten:\n",
      "--------------------------------------------------------------------------------\n",
      "Name                                    Alter     Note      \n",
      "--------------------------------------------------------------------------------\n",
      "Sahin, Oguz                             20        100       \n",
      "Saur, Benjamin                          21        92        \n",
      "Schuh, Ferdinand                        22        90        \n",
      "Wiederstein, Jan-David                  23        94        \n",
      "Wolf, Yessica                           24        93        \n",
      "Schairer, Wladimir                      27        89        \n",
      "Brinkmann, Tua                          19        93        \n",
      "Decker, Isabel                          29        96        \n",
      "Dondelinger, Ben                        20        91        \n",
      "Duong, Achim                            21        91        \n",
      "Förderer, Moritz                        22        81        \n",
      "Kartal, Baran                           23        98        \n",
      "Komninos, David                         24        92        \n",
      "--------------------------------------------------------------------------------\n",
      "\n",
      "Studenten mit hohen Noten:\n",
      "--------------------------------------------------------------------------------\n",
      "Name                                    Alter     Note      \n",
      "--------------------------------------------------------------------------------\n",
      "Sahin, Oguz                             20        100       \n",
      "Decker, Isabel                          29        96        \n",
      "Kartal, Baran                           23        98        \n",
      "--------------------------------------------------------------------------------\n"
     ]
    }
   ],
   "source": [
    "# Zum Testen für Aufgabe 3\n",
    "def tabellarische_ausgabe(studenten_liste):\n",
    "    # Kopfzeile der Tabelle\n",
    "    print(\"-\" * 80)\n",
    "    print(f\"{'Name':<40}{'Alter':<10}{'Note':<10}\")\n",
    "    print(\"-\" * 80)\n",
    "    \n",
    "    # Daten der Studenten\n",
    "    for student in studenten_liste:\n",
    "        print(f\"{student['name']:<40}{student['alter']:<10}{student['note']:<10}\")\n",
    "    print(\"-\" * 80)\n",
    "\n",
    "print(\"Alle Studenten:\")\n",
    "tabellarische_ausgabe(studenten)\n",
    "\n",
    "print(\"\\nStudenten mit hohen Noten:\")\n",
    "tabellarische_ausgabe(studenten_mit_hohen_noten)\n"
   ]
  },
  {
   "cell_type": "code",
   "execution_count": 5,
   "metadata": {},
   "outputs": [
    {
     "name": "stdout",
     "output_type": "stream",
     "text": [
      "Wörter mit mehr als fünf Buchstaben: ['Orange', 'Schwarz', 'Silber', 'Bronze', 'Kupfer']\n"
     ]
    }
   ],
   "source": [
    "# TODO 4: Wörter mit mehr als fünf Buchstaben extrahieren\n",
    "\n",
    "woerter = [\"Rot\", \"Grün\", \"Orange\", \"Weiß\", \"Schwarz\", \"Rosa\", \"Gelb\", \"Blau\", \"Lila\", \"Braun\", \"Grau\", \"Gold\", \"Silber\", \"Bronze\", \"Kupfer\"]\n",
    "\n",
    "def hat_mehr_als_fuenf_buchstaben(wort):\n",
    "    return len(wort) > 5\n",
    "\n",
    "# Wir verwenden die filter-Funktion, um Wörter aus der Liste 'woerter' zu extrahieren, die die Bedingung erfüllen, \n",
    "# die in der Funktion 'hat_mehr_als_fuenf_buchstaben' definiert ist.\n",
    "lange_woerter = list(filter(hat_mehr_als_fuenf_buchstaben, woerter))\n",
    "\n",
    "#mit lambda fuction\n",
    "#lange_woerter = list(filter(lambda wort: len(wort) > 5, woerter))\n",
    "\n",
    "print(\"Wörter mit mehr als fünf Buchstaben:\", lange_woerter)"
   ]
  }
 ],
 "metadata": {
  "kernelspec": {
   "display_name": "bv",
   "language": "python",
   "name": "python3"
  },
  "language_info": {
   "codemirror_mode": {
    "name": "ipython",
    "version": 3
   },
   "file_extension": ".py",
   "mimetype": "text/x-python",
   "name": "python",
   "nbconvert_exporter": "python",
   "pygments_lexer": "ipython3",
   "version": "3.10.11"
  }
 },
 "nbformat": 4,
 "nbformat_minor": 2
}
