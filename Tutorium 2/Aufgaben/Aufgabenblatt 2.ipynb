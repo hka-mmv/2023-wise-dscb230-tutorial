{
 "cells": [
  {
   "cell_type": "markdown",
   "metadata": {},
   "source": [
    "# Willkommen im 2. Tut für Info 2"
   ]
  },
  {
   "cell_type": "markdown",
   "metadata": {},
   "source": [
    "- Ressourcen bei Nachholbedarf: https://www.w3resource.com/python-exercises/"
   ]
  },
  {
   "cell_type": "code",
   "execution_count": null,
   "metadata": {},
   "outputs": [],
   "source": [
    "# Aufgabe 1\n",
    "# TODO: Funktion schreiben, die einen Text einliest und die Anzahl der Vokale und Konsonanten ausgibt.\n",
    "# TODO: Die Funktion sollte auch die am häufigsten vorkommenden Vokale und Konsonanten ausgeben.\n",
    "\n",
    "def analyze_text(text: str):\n",
    "    # Hier sollte der Code geschrieben werden\n",
    "    pass\n",
    "\n",
    "# Test\n",
    "text = \"Das ist ein Beispieltext um zu sehen wie viele Vokale und Konsonanten hier drin sind.\"\n",
    "result = analyze_text(text)\n",
    "print(result)"
   ]
  },
  {
   "cell_type": "code",
   "execution_count": null,
   "metadata": {},
   "outputs": [],
   "source": [
    "# Aufgabe 2\n",
    "# TODO: Arbeitet mit dem Datumsformat und berechnet, wie viele Tage zwischen dem heutigen Datum und einem gegebenen Datum liegen.\n",
    "\n",
    "def days_difference(target_date: str) -> int:\n",
    "    # Hier sollte der Code geschrieben werden\n",
    "    pass\n",
    "\n",
    "# Test\n",
    "Tag = \"2023-01-01\"\n",
    "\n",
    "print(f'Zwischen heute und dem {Tag} liegen: ', days_difference(Tag), 'Tage')"
   ]
  },
  {
   "cell_type": "code",
   "execution_count": null,
   "metadata": {},
   "outputs": [],
   "source": [
    "# Aufgabe 3\n",
    "# TODO: Verwendet \"os.path\" um den absoluten Pfad der Datei \"aufgabe2.json\" zu finden und auszugeben.\n",
    "\n",
    "def get_absolute_path(filename: str) -> str:\n",
    "    # Hier sollte der Code geschrieben werden\n",
    "    pass\n",
    "\n",
    "# Test\n",
    "print(get_absolute_path(\"../Aufgaben/aufgabe2.json\"))"
   ]
  },
  {
   "cell_type": "code",
   "execution_count": null,
   "metadata": {},
   "outputs": [],
   "source": [
    "# Aufgabe 4\n",
    "# TODO: Schreibt eine Funktion, die alle Primzahlen bis zu einer gegebenen Zahl zurückgibt.\n",
    "\n",
    "def is_prime(n: int) -> bool:\n",
    "    # Hier sollte der Code geschrieben werden\n",
    "    pass\n",
    "\n",
    "def primes_up_to(n: int) -> list[int]:\n",
    "    # Hier sollte der Code geschrieben werden\n",
    "    pass\n",
    "\n",
    "# Test\n",
    "print(primes_up_to(50))  # Dies sollte alle Primzahlen bis 50 ausgeben"
   ]
  },
  {
   "cell_type": "code",
   "execution_count": null,
   "metadata": {},
   "outputs": [],
   "source": [
    "# Aufgabe 5\n",
    "# TODO: Erstellt eine Funktion, die überprüft, ob ein Wort ein Palindrom ist.\n",
    "\n",
    "def is_palindrome(word: str) -> bool:\n",
    "    # Hier sollte der Code geschrieben werden\n",
    "    pass\n",
    "\n",
    "# Test\n",
    "print(is_palindrome(\"anna\"))  # Sollte True ausgeben\n",
    "print(is_palindrome(\"hello\"))  # Sollte False ausgeben"
   ]
  }
 ],
 "metadata": {
  "language_info": {
   "name": "python"
  }
 },
 "nbformat": 4,
 "nbformat_minor": 2
}
