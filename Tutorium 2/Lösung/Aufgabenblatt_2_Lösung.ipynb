{
 "cells": [
  {
   "cell_type": "code",
   "execution_count": 1,
   "metadata": {},
   "outputs": [
    {
     "name": "stdout",
     "output_type": "stream",
     "text": [
      "{'v_count': 30, 'c_count': 40, 'most_common_vowel': 'e', 'most_common_consonant': 'n'}\n",
      "Vokale: 30, Konsonanten: 40\n",
      "Am häufigsten vorkommender Vokal: e\n",
      "Am häufigsten vorkommender Konsonant: n\n"
     ]
    }
   ],
   "source": [
    "# Aufgabe 1\n",
    "# TODO: Funktion schreiben, die einen Text einliest und die Anzahl der Vokale und Konsonanten ausgibt.\n",
    "# TODO: Die Funktion sollte auch die am häufigsten vorkommenden Vokale und Konsonanten ausgeben.\n",
    "\n",
    "def analyze_text(text: str):\n",
    "    vokal = \"AEIOUaeiou\"\n",
    "    konsonant = \"BCDFGHJKLMNPQRSTVWXYZbcdfghjklmnpqrstvwxyz\"\n",
    "    \n",
    "    v_count = 0\n",
    "    c_count = 0\n",
    "    v_freq = {}\n",
    "    c_freq = {}\n",
    "\n",
    "    for char in text:\n",
    "        if char in vokal:\n",
    "            v_count += 1\n",
    "            if char not in v_freq:\n",
    "                v_freq[char] = 0\n",
    "            v_freq[char] += 1\n",
    "        elif char in konsonant:\n",
    "            c_count += 1\n",
    "            if char not in c_freq:\n",
    "                c_freq[char] = 0\n",
    "            c_freq[char] += 1\n",
    "\n",
    "    most_common_vowel = None\n",
    "    most_common_consonant = None\n",
    "    if v_freq:\n",
    "        most_common_vowel = max(v_freq, key=v_freq.get)\n",
    "    if c_freq:\n",
    "        most_common_consonant = max(c_freq, key=c_freq.get)\n",
    "\n",
    "    return {\n",
    "        \"v_count\": v_count,\n",
    "        \"c_count\": c_count,\n",
    "        \"most_common_vowel\": most_common_vowel,\n",
    "        \"most_common_consonant\": most_common_consonant\n",
    "    }\n",
    "\n",
    "text = \"Das ist ein Beispieltext um zu sehen wie viele Vokale und Konsonanten hier drin sind.\"\n",
    "result = analyze_text(text)\n",
    "print(result)\n",
    "print(f\"Vokale: {result['v_count']}, Konsonanten: {result['c_count']}\")\n",
    "print(f\"Am häufigsten vorkommender Vokal: {result['most_common_vowel']}\")\n",
    "print(f\"Am häufigsten vorkommender Konsonant: {result['most_common_consonant']}\")\n",
    "\n"
   ]
  },
  {
   "cell_type": "code",
   "execution_count": 2,
   "metadata": {},
   "outputs": [
    {
     "name": "stdout",
     "output_type": "stream",
     "text": [
      "Zwischen heute und dem 2023-01-01 liegen:  293 Tage\n"
     ]
    }
   ],
   "source": [
    "# Aufgabe 2\n",
    "# TODO: Arbeitet mit dem Datumsformat und berechnet, wie viele Tage zwischen dem heutigen Datum und einem gegebenen Datum liegen.\n",
    "import datetime\n",
    "\n",
    "def days_difference(target_date: str) -> int:\n",
    "    date_format = \"%Y-%m-%d\"\n",
    "    given_date = datetime.datetime.strptime(target_date, date_format)\n",
    "    current_date = datetime.datetime.now()\n",
    "    difference = current_date - given_date\n",
    "    return difference.days\n",
    "\n",
    "Tag = \"2023-01-01\"\n",
    "\n",
    "print(f'Zwischen heute und dem {Tag} liegen: ', days_difference(Tag), 'Tage')"
   ]
  },
  {
   "cell_type": "code",
   "execution_count": null,
   "metadata": {},
   "outputs": [],
   "source": [
    "# Aufgabe 3\n",
    "# TODO: Verwendet \"os.path\" um den absoluten Pfad der Datei \"aufgabe2.json\" zu finden und auszugeben.\n",
    "import os\n",
    "\n",
    "def get_absolute_path(filename: str) -> str:\n",
    "    return os.path.abspath(filename)\n",
    "\n",
    "print(get_absolute_path(\"../../Tutorium 1/Aufgaben/aufgabe2.json\"))"
   ]
  },
  {
   "cell_type": "code",
   "execution_count": 4,
   "metadata": {},
   "outputs": [
    {
     "name": "stdout",
     "output_type": "stream",
     "text": [
      "[2, 3, 5, 7, 11, 13, 17, 19, 23, 29, 31, 37, 41, 43, 47]\n"
     ]
    }
   ],
   "source": [
    "# Aufgabe 4\n",
    "# TODO: Schreibt eine Funktion, die alle Primzahlen bis zu einer gegebenen Zahl zurückgibt.\n",
    "\n",
    "def is_prime(n: int) -> bool:\n",
    "    if n <= 1:\n",
    "        return False\n",
    "    for i in range(2, int(n ** 0.5) + 1):\n",
    "        if n % i == 0:\n",
    "            return False\n",
    "    return True\n",
    "\n",
    "def primes_up_to(n: int) -> list[int]:\n",
    "    primes = []\n",
    "    for i in range(2, n+1):\n",
    "        if is_prime(i):\n",
    "            primes.append(i)\n",
    "    return primes\n",
    "\n",
    "print(primes_up_to(50))"
   ]
  },
  {
   "cell_type": "code",
   "execution_count": 5,
   "metadata": {},
   "outputs": [
    {
     "name": "stdout",
     "output_type": "stream",
     "text": [
      "True\n",
      "False\n"
     ]
    }
   ],
   "source": [
    "# Aufgabe 5\n",
    "# TODO: Erstellt eine Funktion, die überprüft, ob ein Wort ein Palindrom ist.\n",
    "def is_palindrome(word: str) -> bool:\n",
    "    reversed_word = \"\".join(reversed(word))\n",
    "    return word == reversed_word\n",
    "\n",
    "print(is_palindrome(\"anna\"))\n",
    "print(is_palindrome(\"hello\"))"
   ]
  },
  {
   "cell_type": "code",
   "execution_count": 6,
   "metadata": {},
   "outputs": [
    {
     "data": {
      "text/plain": [
       "3.0"
      ]
     },
     "execution_count": 6,
     "metadata": {},
     "output_type": "execute_result"
    }
   ],
   "source": [
    "9** 0.5"
   ]
  }
 ],
 "metadata": {
  "kernelspec": {
   "display_name": "bv",
   "language": "python",
   "name": "python3"
  },
  "language_info": {
   "codemirror_mode": {
    "name": "ipython",
    "version": 3
   },
   "file_extension": ".py",
   "mimetype": "text/x-python",
   "name": "python",
   "nbconvert_exporter": "python",
   "pygments_lexer": "ipython3",
   "version": "3.10.11"
  }
 },
 "nbformat": 4,
 "nbformat_minor": 2
}
