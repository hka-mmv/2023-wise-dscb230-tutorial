{
 "cells": [
  {
   "cell_type": "code",
   "execution_count": 21,
   "metadata": {},
   "outputs": [],
   "source": [
    "import datetime\n",
    "import calendar"
   ]
  },
  {
   "cell_type": "markdown",
   "metadata": {},
   "source": [
    "# Ressource hilfreich: \n",
    "# https://www.programiz.com/python-programming/datetime\n",
    "# https://www.w3schools.com/python/python_datetime.asp"
   ]
  },
  {
   "cell_type": "code",
   "execution_count": 22,
   "metadata": {},
   "outputs": [
    {
     "name": "stdout",
     "output_type": "stream",
     "text": [
      "Aktuelles Datum: 2023-10-24\n",
      "Aktuelles Datum und Zeit: 2023-10-24 13:14:11.740862\n",
      "Aktuelles Jahr: 2023\n",
      "Aktueller Monat: 10\n",
      "Name des aktuellen Monats: October\n",
      "Aktuelle Kalenderwoche: 43\n",
      "Aktueller Wochentag (Zahl): 2\n",
      "Aktueller Tag des Jahres: 297\n",
      "Aktueller Tag des Monats: 24\n",
      "Aktueller Wochentag (Name): Tuesday\n"
     ]
    }
   ],
   "source": [
    "# TODO 1\n",
    "# 1. Schreibe ein Python-Skript, um das aktuelle Datum und die aktuelle Zeit anzuzeigen. \n",
    "# a. Zeige auch das aktuelle Jahr, \n",
    "# b. den aktuellen Monat, \n",
    "# c. den Namen des aktuellen Monats, \n",
    "# d. die aktuelle Kalenderwoche, \n",
    "# e. den aktuellen Wochentag (als Zahl und als Name), \n",
    "# f. den aktuellen Tag des Jahres, \n",
    "# g. den aktuellen Tag des Monats an und\n",
    "\n",
    "print(\"Aktuelles Datum:\", datetime.date.today())\n",
    "print(\"Aktuelles Datum und Zeit:\", datetime.datetime.now())\n",
    "print(\"Aktuelles Jahr:\", datetime.date.today().year)\n",
    "print(\"Aktueller Monat:\", datetime.date.today().month)\n",
    "print(\"Name des aktuellen Monats:\", datetime.date.today().strftime('%B'))\n",
    "print(\"Aktuelle Kalenderwoche:\", datetime.date.today().isocalendar()[1])\n",
    "print(\"Aktueller Wochentag (Zahl):\", datetime.date.today().isoweekday())\n",
    "print(\"Aktueller Tag des Jahres:\", datetime.date.today().strftime('%j'))\n",
    "print(\"Aktueller Tag des Monats:\", datetime.date.today().strftime('%d'))\n",
    "print(\"Aktueller Wochentag (Name):\", datetime.date.today().strftime('%A'))"
   ]
  },
  {
   "cell_type": "code",
   "execution_count": 23,
   "metadata": {},
   "outputs": [
    {
     "name": "stdout",
     "output_type": "stream",
     "text": [
      "False\n",
      "True\n",
      "False\n",
      "True\n"
     ]
    }
   ],
   "source": [
    "# TODO 2\n",
    "# Schreibe ein Python-Programm, um zu überprüfen, ob ein gegebenes Jahr ein Schaltjahr ist. Teste das Jahr 2018.\n",
    "\n",
    "def ist_schaltjahr(y):\n",
    "    if y % 400 == 0:\n",
    "        return True\n",
    "    if y % 100 == 0:\n",
    "        return False\n",
    "    if y % 4 == 0:\n",
    "        return True\n",
    "    else:\n",
    "        return False\n",
    "\n",
    "print(ist_schaltjahr(1900))\n",
    "print(ist_schaltjahr(2004))\n",
    "\n",
    "# ODER:\n",
    "print(calendar.isleap(1900))\n",
    "print(calendar.isleap(2004))"
   ]
  },
  {
   "cell_type": "code",
   "execution_count": 24,
   "metadata": {},
   "outputs": [
    {
     "name": "stdout",
     "output_type": "stream",
     "text": [
      "Konvertiertes Datum und Zeit für 'March 15, 2021 2:43PM': 2021-03-15 14:43:00\n",
      "Konvertiertes Datum und Zeit für '15/03/2021 14:43': 2021-03-15 14:43:00\n",
      "Konvertiertes Datum und Zeit für '2021-03-15T14:43:00': 2021-03-15 14:43:00\n",
      "Konvertiertes Datum und Zeit für '15.03.2021 14:43:00': 2021-03-15 14:43:00\n"
     ]
    }
   ],
   "source": [
    "# TODO 3\n",
    "# Konvertiere die folgenden Strings in ein datetime-Objekt:\n",
    "\n",
    "datum_strings = [\n",
    "    'March 15, 2021 2:43PM',\n",
    "    '15/03/2021 14:43',\n",
    "    '2021-03-15T14:43:00',\n",
    "    '15.03.2021 14:43:00'\n",
    "]\n",
    "\n",
    "formate = [\n",
    "    '%B %d, %Y %I:%M%p',\n",
    "    '%d/%m/%Y %H:%M',\n",
    "    '%Y-%m-%dT%H:%M:%S',\n",
    "    '%d.%m.%Y %H:%M:%S'\n",
    "]\n",
    "\n",
    "for datum_str, datum_format in zip(datum_strings, formate):\n",
    "    konvertiertes_datum = datetime.datetime.strptime(datum_str, datum_format)\n",
    "    print(f\"Konvertiertes Datum und Zeit für '{datum_str}': {konvertiertes_datum}\")\n"
   ]
  },
  {
   "cell_type": "code",
   "execution_count": 25,
   "metadata": {},
   "outputs": [
    {
     "name": "stdout",
     "output_type": "stream",
     "text": [
      "13:14:11.809443\n"
     ]
    }
   ],
   "source": [
    "# TODO 4\n",
    "# Zeige die aktuelle Zeit in Python an.\n",
    "print(datetime.datetime.now().time())"
   ]
  },
  {
   "cell_type": "code",
   "execution_count": 26,
   "metadata": {},
   "outputs": [
    {
     "name": "stdout",
     "output_type": "stream",
     "text": [
      "Aktuelles Datum: 2023-10-24\n",
      "Datum vor fünf Tagen: 2023-10-19\n"
     ]
    }
   ],
   "source": [
    "# TODO 5\n",
    "# Subtrahiere fünf Tage vom aktuellen Datum und zeige das Ergebnis an.\n",
    "aktuelles_datum = datetime.date.today()\n",
    "vor_fünf_tagen = aktuelles_datum - datetime.timedelta(5)\n",
    "\n",
    "print(f\"Aktuelles Datum: {aktuelles_datum}\")\n",
    "print(f\"Datum vor fünf Tagen: {vor_fünf_tagen}\")"
   ]
  },
  {
   "cell_type": "code",
   "execution_count": 27,
   "metadata": {},
   "outputs": [
    {
     "name": "stdout",
     "output_type": "stream",
     "text": [
      "Lesbares Datum und Zeit: 2010-09-10 10:01:22\n"
     ]
    }
   ],
   "source": [
    "# TODO 6\n",
    "# Konvertiere den folgenden Unix-Zeitstempel in ein lesbares Datum: 1284105682.\n",
    "zeitstempel = 1284105682\n",
    "lesbares_datum = datetime.datetime.fromtimestamp(zeitstempel)\n",
    "print(f\"Lesbares Datum und Zeit: {lesbares_datum}\")"
   ]
  },
  {
   "cell_type": "code",
   "execution_count": 28,
   "metadata": {},
   "outputs": [
    {
     "name": "stdout",
     "output_type": "stream",
     "text": [
      "Gestern: 2023-10-23\n",
      "Heute: 2023-10-24\n",
      "Morgen: 2023-10-25\n"
     ]
    }
   ],
   "source": [
    "# TODO 7\n",
    "# Zeige gestern, heute und morgen an.\n",
    "print(\"Gestern:\", datetime.date.today() - datetime.timedelta(1))\n",
    "print(\"Heute:\", datetime.date.today())\n",
    "print(\"Morgen:\", datetime.date.today() + datetime.timedelta(1))"
   ]
  },
  {
   "cell_type": "code",
   "execution_count": 29,
   "metadata": {},
   "outputs": [
    {
     "name": "stdout",
     "output_type": "stream",
     "text": [
      "Mitternacht des Datums: 2023-10-24 00:00:00\n"
     ]
    }
   ],
   "source": [
    "# TODO 8\n",
    "# Konvertiere das aktuelle Datum in ein datetime-Objekt, das genau Mitternacht repräsentiert.\n",
    "heutiges_datum = datetime.date.today()\n",
    "mitternacht_datetime = datetime.datetime.combine(heutiges_datum, datetime.time.min)\n",
    "print(f\"Mitternacht des Datums: {mitternacht_datetime}\")"
   ]
  },
  {
   "cell_type": "code",
   "execution_count": 30,
   "metadata": {},
   "outputs": [
    {
     "name": "stdout",
     "output_type": "stream",
     "text": [
      "2023-10-24\n",
      "2023-10-25\n",
      "2023-10-26\n",
      "2023-10-27\n",
      "2023-10-28\n",
      "2023-10-29\n"
     ]
    }
   ],
   "source": [
    "# TODO 9\n",
    "# Zeige die nächsten 5 Tage ab heute an.\n",
    "for i in range(6):\n",
    "    print(datetime.date.today() + datetime.timedelta(i))"
   ]
  }
 ],
 "metadata": {
  "kernelspec": {
   "display_name": "bv",
   "language": "python",
   "name": "python3"
  },
  "language_info": {
   "codemirror_mode": {
    "name": "ipython",
    "version": 3
   },
   "file_extension": ".py",
   "mimetype": "text/x-python",
   "name": "python",
   "nbconvert_exporter": "python",
   "pygments_lexer": "ipython3",
   "version": "3.10.11"
  }
 },
 "nbformat": 4,
 "nbformat_minor": 2
}
