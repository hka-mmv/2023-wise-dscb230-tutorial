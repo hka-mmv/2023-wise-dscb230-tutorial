{
 "cells": [
  {
   "cell_type": "markdown",
   "metadata": {},
   "source": [
    "# Willkommen im 3. Tut für Info 2"
   ]
  },
  {
   "cell_type": "markdown",
   "metadata": {},
   "source": [
    "# Ressource hilfreich: \n",
    "# https://www.programiz.com/python-programming/datetime\n",
    "# https://www.w3schools.com/python/python_datetime.asp"
   ]
  },
  {
   "cell_type": "code",
   "execution_count": null,
   "metadata": {},
   "outputs": [],
   "source": [
    "import datetime\n",
    "import calendar"
   ]
  },
  {
   "cell_type": "code",
   "execution_count": null,
   "metadata": {},
   "outputs": [],
   "source": [
    "# TODO 1: Aktuelles Datum und Zeit anzeigen\n",
    "# a. Zeige das aktuelle Datum.\n",
    "# b. Zeige das aktuelle Datum und die aktuelle Zeit.\n",
    "# c. Zeige das aktuelle Jahr.\n",
    "# d. Zeige den aktuellen Monat.\n",
    "# e. Zeige den Namen des aktuellen Monats.\n",
    "# f. Zeige die aktuelle Kalenderwoche.\n",
    "# g. Zeige den aktuellen Wochentag (als Zahl, wobei Montag = 1).\n",
    "# h. Zeige den aktuellen Wochentag als Namen.\n",
    "# i. Zeige den aktuellen Tag des Jahres.\n",
    "# j. Zeige den aktuellen Tag des Monats.\n",
    "\n",
    "# Hier beginnen deine Lösungen für TODO 1\n",
    "# (Hinweis: Nutze das datetime-Modul)\n"
   ]
  },
  {
   "cell_type": "code",
   "execution_count": null,
   "metadata": {},
   "outputs": [],
   "source": [
    "# TODO 2: Schaltjahr\n",
    "# Schreibe eine Funktion, die überprüft, ob ein gegebenes Jahr ein Schaltjahr ist.\n",
    "# Teste die Funktion mit den Jahren 1900 und 2004.\n",
    "# Hilfreich: https://learn.microsoft.com/en-us/office/troubleshoot/excel/determine-a-leap-year\n",
    "\n",
    "def ist_schaltjahr(y):\n",
    "    # Dein Code hier\n",
    "    pass\n",
    "\n",
    "print(ist_schaltjahr(1900))\n",
    "print(ist_schaltjahr(2004))\n",
    "\n",
    "# Es gibt auch eine Funktion im calendar-Modul, die das kann.\n",
    "# Hilfreich: https://docs.python.org/3/library/calendar.html#calendar.isleap\n",
    "\n"
   ]
  },
  {
   "cell_type": "code",
   "execution_count": null,
   "metadata": {},
   "outputs": [],
   "source": [
    "# TODO 3: Strings in datetime-Objekte konvertieren\n",
    "# Konvertiere die folgenden Strings in ein datetime-Objekt.\n",
    "\n",
    "datum_strings = [\n",
    "    'March 15, 2021 2:43PM',\n",
    "    '15/03/2021 14:43',\n",
    "    '2021-03-15T14:43:00',\n",
    "    '15.03.2021 14:43:00'\n",
    "]\n",
    "\n",
    "# Definiere die Formate entsprechend den gegebenen datum_strings\n",
    "\n",
    "formate = [\n",
    "    # Dein Format hier,\n",
    "    # ...\n",
    "]\n",
    "\n",
    "# Konvertiere die datum_strings mithilfe der Formate\n",
    "for datum_str, datum_format in zip(datum_strings, formate):\n",
    "    # Dein Code hier"
   ]
  },
  {
   "cell_type": "code",
   "execution_count": null,
   "metadata": {},
   "outputs": [],
   "source": [
    "# TODO 4: Aktuelle Zeit anzeigen\n",
    "# Hinweis: Nutze das datetime-Modul\n"
   ]
  },
  {
   "cell_type": "code",
   "execution_count": null,
   "metadata": {},
   "outputs": [],
   "source": [
    "# TODO 5: Datumsberechnung\n",
    "# Subtrahiere fünf Tage vom aktuellen Datum und zeige das Ergebnis an.\n"
   ]
  },
  {
   "cell_type": "code",
   "execution_count": null,
   "metadata": {},
   "outputs": [],
   "source": [
    "# TODO 6: Unix-Zeitstempel\n",
    "# Konvertiere den folgenden Unix-Zeitstempel in ein lesbares Datum: 1284105682.\n",
    "\n",
    "zeitstempel = 1284105682"
   ]
  },
  {
   "cell_type": "code",
   "execution_count": null,
   "metadata": {},
   "outputs": [],
   "source": [
    "# TODO 7: Vergangene, gegenwärtige und zukünftige Daten\n",
    "# Zeige gestern, heute und morgen an.\n"
   ]
  },
  {
   "cell_type": "code",
   "execution_count": null,
   "metadata": {},
   "outputs": [],
   "source": [
    "# TODO 8: Mitternacht\n",
    "# Konvertiere das aktuelle Datum in ein datetime-Objekt, das genau Mitternacht repräsentiert.\n"
   ]
  },
  {
   "cell_type": "code",
   "execution_count": null,
   "metadata": {},
   "outputs": [],
   "source": [
    "# TODO 9: Die nächsten Tage\n",
    "# Zeige die nächsten 5 Tage ab heute an.\n"
   ]
  }
 ],
 "metadata": {
  "language_info": {
   "name": "python"
  }
 },
 "nbformat": 4,
 "nbformat_minor": 2
}
