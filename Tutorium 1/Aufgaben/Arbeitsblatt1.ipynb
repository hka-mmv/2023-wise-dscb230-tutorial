{
 "cells": [
  {
   "cell_type": "markdown",
   "metadata": {},
   "source": [
    "# Willkommen im Tut für Info 2"
   ]
  },
  {
   "cell_type": "markdown",
   "metadata": {},
   "source": [
    "## Aufgabe 1: JSON-Datei einlesen und verarbeiten"
   ]
  },
  {
   "cell_type": "code",
   "execution_count": 1,
   "metadata": {},
   "outputs": [],
   "source": [
    "# TODO: Funktion schreiben, die die Datei \"aufgabe1.json\" einliest und den Inhalt ausgibt.\n",
    "# TODO: Speichert die Anzahl der Geister in einer Variable (Aufgabe 4)\n",
    "# TODO: Es haben sich Geister in der Datei versteckt. Entfernt die Buh's aus der Liste.\n",
    "# TODO: Das bereinigte Array ausgeben. (Die Aufgabenstellung für Aufgabe 2 könnt ihr danach ablesen.)\n",
    "\n",
    "import json\n",
    "\n",
    "def read_json_file(filename: str) -> list[int]:\n",
    "    pass\n"
   ]
  },
  {
   "cell_type": "markdown",
   "metadata": {},
   "source": [
    "## Aufgabe 2: CSV-Datei einlesen und verarbeiten"
   ]
  },
  {
   "cell_type": "code",
   "execution_count": 2,
   "metadata": {},
   "outputs": [],
   "source": [
    "def read_csv_file(filename: str) -> list[int]:\n",
    "    pass"
   ]
  },
  {
   "cell_type": "code",
   "execution_count": 3,
   "metadata": {},
   "outputs": [],
   "source": [
    "def remove_duplicates(numbers: list[int]) -> list[int]:\n",
    "    pass"
   ]
  },
  {
   "cell_type": "code",
   "execution_count": 7,
   "metadata": {},
   "outputs": [],
   "source": [
    "numbers = read_csv_file()\n",
    "unique_numbers = remove_duplicates(numbers)"
   ]
  },
  {
   "cell_type": "markdown",
   "metadata": {},
   "source": [
    "## Aufgabe 3: Bereinigte Liste in eine Datei schreiben"
   ]
  },
  {
   "cell_type": "code",
   "execution_count": 5,
   "metadata": {},
   "outputs": [],
   "source": [
    "# TODO: Schreibt die bereinigte Liste in eine '2_bereinigt.csv' im Ordner 'Data'.\n",
    "\n",
    "def write_to_csv(filename: str, numbers: list[int]):\n",
    "    pass"
   ]
  },
  {
   "cell_type": "markdown",
   "metadata": {},
   "source": [
    "## Aufgabe 4: Finde Summen-Kombinationen"
   ]
  },
  {
   "cell_type": "code",
   "execution_count": null,
   "metadata": {},
   "outputs": [],
   "source": [
    "# TODO: Schreibt eine Funktion, die alle möglichen Summen-Paare zurückgibt\n",
    "# TODO: Das Summenziel, soll die Anzahl der Geister sein.\n",
    "\n",
    "def find_combinations(numbers: list[int], target: int) -> list[int]:\n",
    "    pass\n",
    "\n",
    "\n",
    "combinations = find_combinations(unique_numbers, buh_count)\n",
    "print(combinations)"
   ]
  }
 ],
 "metadata": {
  "kernelspec": {
   "display_name": "bv",
   "language": "python",
   "name": "python3"
  },
  "language_info": {
   "codemirror_mode": {
    "name": "ipython",
    "version": 3
   },
   "file_extension": ".py",
   "mimetype": "text/x-python",
   "name": "python",
   "nbconvert_exporter": "python",
   "pygments_lexer": "ipython3",
   "version": "3.10.11"
  }
 },
 "nbformat": 4,
 "nbformat_minor": 2
}
