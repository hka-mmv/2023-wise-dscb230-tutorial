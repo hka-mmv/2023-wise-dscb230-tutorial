{
 "cells": [
  {
   "cell_type": "markdown",
   "metadata": {},
   "source": [
    "# Willkommen im Tut für Info 2"
   ]
  },
  {
   "cell_type": "markdown",
   "metadata": {},
   "source": [
    "## Aufgabe 1: JSON-Datei einlesen und verarbeiten"
   ]
  },
  {
   "cell_type": "code",
   "execution_count": 1,
   "metadata": {},
   "outputs": [
    {
     "name": "stdout",
     "output_type": "stream",
     "text": [
      "42 Geister haben sich versteckt.\n",
      "Lest Datei \"2.csv\" im Ordner 'Data' ein. Darin ist eine Liste mit Zahlen. Einige Zahlen sind doppelt. Schreibt eine Funktion, die die Duplikate löscht und eine bereinigte Liste zurückgibt.\n"
     ]
    }
   ],
   "source": [
    "# TODO: Funktion schreiben, die die Datei \"aufgabe1.json\" einliest und den Inhalt ausgibt.\n",
    "# TODO: Speichert die Anzahl der Geister in einer Variable (Aufgabe 4)\n",
    "# TODO: Es haben sich Geister in der Datei versteckt. Entfernt die Buh's aus der Liste.\n",
    "# TODO: Das bereinigte Array ausgeben. (Die Aufgabenstellung für Aufgabe 2 könnt ihr danach ablesen.)\n",
    "\n",
    "import json\n",
    "\n",
    "# Lösung TODO 1: Funktion, um Datei einzulesen\n",
    "def read_json_file(filename: str) -> list[str]:\n",
    "    with open(filename, 'r') as file:\n",
    "        data = json.load(file)\n",
    "    return data\n",
    "\n",
    "data = read_json_file(\"../Aufgaben/aufgabe1.json\") # <--- \"aufgabe1.json\" wenn man im urprünglichen Ordner ist.\n",
    "#Da wir in einem anderen Ordner sind als das ursprüngliche Arbeitsblatt müssen wir den Pfad anpassen.\n",
    "\n",
    "# Lösung TODO 2: Speichert die Anzahl der Geister in einer Variable (für Aufgabe 4)\n",
    "buh_count = data.count('Buh')\n",
    "\n",
    "# Lösung TODO 3: Entfernt die Buh's aus der Liste. (Variante 1)\n",
    "# als list comprehension\n",
    "data = [word for word in data if word != 'Buh']\n",
    "\n",
    "# Lösung TODO 3: Entfernt die Buh's aus der Liste. (Variante 2)\n",
    "new_data = []\n",
    "for word in data:\n",
    "    if word != 'Buh':\n",
    "        new_data.append(word)\n",
    "data = new_data\n",
    "\n",
    "print(f'{buh_count} Geister haben sich versteckt.')\n",
    "# Lösung TODO 4: Das bereinigte Array ausgeben.\n",
    "# https://www.programiz.com/python-programming/methods/string/join\n",
    "print(\" \".join(data))\n"
   ]
  },
  {
   "cell_type": "markdown",
   "metadata": {},
   "source": [
    "## Aufgabe 2: CSV-Datei einlesen und verarbeiten"
   ]
  },
  {
   "cell_type": "code",
   "execution_count": 2,
   "metadata": {},
   "outputs": [],
   "source": [
    "def read_csv_file(filename: str) -> list[int]:\n",
    "    with open(filename, 'r') as file:\n",
    "        numbers = file.read().split(',')\n",
    "    return [int(num) for num in numbers]"
   ]
  },
  {
   "cell_type": "code",
   "execution_count": 3,
   "metadata": {},
   "outputs": [],
   "source": [
    "def read_csv_file_vereinfacht(filename: str) -> list:\n",
    "    with open(filename, 'r') as file:\n",
    "        numbers = file.read().split(',')\n",
    "    \n",
    "    result = []\n",
    "    for num in numbers:\n",
    "        result.append(int(num))\n",
    "    \n",
    "    return result"
   ]
  },
  {
   "cell_type": "code",
   "execution_count": 4,
   "metadata": {},
   "outputs": [],
   "source": [
    "def remove_duplicates(numbers: list[int]) -> list[int]:\n",
    "    return list(set(numbers))"
   ]
  },
  {
   "cell_type": "code",
   "execution_count": 5,
   "metadata": {},
   "outputs": [
    {
     "name": "stdout",
     "output_type": "stream",
     "text": [
      "[1, 1, 2, 3, 3, 4, 4, 5, 5, 6, 6, 7, 8, 8, 9, 10, 10, 11, 12, 13, 14, 14, 15, 16, 16, 17, 18, 18, 19, 20, 20, 21, 22, 23, 24, 24, 25, 26, 26, 27, 28, 28, 29, 30, 30]\n",
      "[1, 2, 3, 4, 5, 6, 7, 8, 9, 10, 11, 12, 13, 14, 15, 16, 17, 18, 19, 20, 21, 22, 23, 24, 25, 26, 27, 28, 29, 30]\n"
     ]
    }
   ],
   "source": [
    "numbers = read_csv_file(\"../Data/2.csv\")\n",
    "unique_numbers = remove_duplicates(numbers)\n",
    "print(numbers)\n",
    "print(unique_numbers)"
   ]
  },
  {
   "cell_type": "markdown",
   "metadata": {},
   "source": [
    "## Aufgabe 3: Bereinigte Liste in eine Datei schreiben"
   ]
  },
  {
   "cell_type": "code",
   "execution_count": 6,
   "metadata": {},
   "outputs": [],
   "source": [
    "# TODO: Schreibt die bereinigte Liste in eine '2_bereinigt.csv' im Ordner 'Data'.\n",
    "\n",
    "def write_to_csv(filename: str, numbers: list[int]):\n",
    "    with open(filename, 'w') as file:\n",
    "        file.write(','.join(map(str, numbers)))\n"
   ]
  },
  {
   "cell_type": "code",
   "execution_count": 7,
   "metadata": {},
   "outputs": [],
   "source": [
    "def write_to_csv_vereinfacht(filename: str, numbers: list):\n",
    "    # Eine leere Liste erstellen, in der wir die Zahlen als Zeichenketten speichern werden.\n",
    "    string_numbers = []\n",
    "    \n",
    "    # Durch jede Zahl in der übergebenen Liste 'numbers' iterieren.\n",
    "    for number in numbers:\n",
    "        # Die aktuelle Zahl in eine Zeichenkette umwandeln und zur Liste 'string_numbers' hinzufügen.\n",
    "        string_numbers.append(str(number))\n",
    "    \n",
    "    # Die Datei mit dem angegebenen Dateinamen zum Schreiben öffnen.\n",
    "    with open(filename, 'w') as file:\n",
    "        # Die Liste 'string_numbers' in eine einzelne Zeichenkette umwandeln, wobei die Zeichenketten\n",
    "        # durch Kommas getrennt sind, und diese Zeichenkette in die Datei schreiben.\n",
    "        file.write(','.join(string_numbers))\n"
   ]
  },
  {
   "cell_type": "code",
   "execution_count": 8,
   "metadata": {},
   "outputs": [],
   "source": [
    "\n",
    "write_to_csv('../Data/2_bereinigt.csv', unique_numbers)"
   ]
  },
  {
   "cell_type": "markdown",
   "metadata": {},
   "source": [
    "## Aufgabe 4: Finde Summen-Kombinationen"
   ]
  },
  {
   "cell_type": "code",
   "execution_count": 9,
   "metadata": {},
   "outputs": [
    {
     "name": "stdout",
     "output_type": "stream",
     "text": [
      "[1, 2, 3, 4, 5, 6, 7, 8, 9, 10, 11, 12, 13, 14, 15, 16, 17, 18, 19, 20, 21, 22, 23, 24, 25, 26, 27, 28, 29, 30]\n"
     ]
    }
   ],
   "source": [
    "print(unique_numbers)"
   ]
  },
  {
   "cell_type": "code",
   "execution_count": 12,
   "metadata": {},
   "outputs": [
    {
     "name": "stdout",
     "output_type": "stream",
     "text": [
      "[(12, 30), (13, 29), (14, 28), (15, 27), (16, 26), (17, 25), (18, 24), (19, 23), (20, 22)]\n"
     ]
    }
   ],
   "source": [
    "# TODO: Schreibt eine Funktion, die alle möglichen Summen-Paare zurückgibt\n",
    "\n",
    "# Lösung 1: Brute Force O(n^2)\n",
    "\n",
    "def find_combinations_vereinfacht(numbers, target_sum):\n",
    "    # Eine leere Liste erstellen, um die gefundenen Kombinationen zu speichern.\n",
    "    combinations = []\n",
    "    \n",
    "    # Die Länge der Zahlenliste bestimmen.\n",
    "    n = len(numbers)\n",
    "    \n",
    "    # Zwei verschachtelte Schleifen verwenden, um alle möglichen Kombinationen von zwei Zahlen zu überprüfen.\n",
    "    for i in range(n):\n",
    "        for j in range(i+1, n):  # Beginnen bei i+1, um Duplikate zu vermeiden und keine Zahl mit sich selbst zu kombinieren.\n",
    "            # Wenn die Summe der aktuellen Kombination der gewünschten Zielsumme entspricht, \n",
    "            # dann füge sie zur Kombinationsliste hinzu.\n",
    "            if numbers[i] + numbers[j] == target_sum:\n",
    "                combinations.append((numbers[i], numbers[j]))\n",
    "    \n",
    "    # Die Liste der gefundenen Kombinationen zurückgeben.\n",
    "    return combinations\n",
    "\n",
    "combinations = find_combinations_vereinfacht(unique_numbers, buh_count)\n",
    "print(combinations)"
   ]
  },
  {
   "cell_type": "code",
   "execution_count": 11,
   "metadata": {},
   "outputs": [
    {
     "name": "stdout",
     "output_type": "stream",
     "text": [
      "[(20, 22), (19, 23), (18, 24), (17, 25), (16, 26), (15, 27), (14, 28), (13, 29), (12, 30)]\n"
     ]
    }
   ],
   "source": [
    "# Lösung 2: Hashset O(n)\n",
    "\n",
    "def find_combinations(numbers, target_sum):\n",
    "    num_dict = {}\n",
    "    combinations = []\n",
    "\n",
    "    for index, num in enumerate(numbers):\n",
    "        complement = target_sum - num\n",
    "        if complement in num_dict:\n",
    "            combinations.append((complement, num))\n",
    "        num_dict[num] = index\n",
    "\n",
    "    return combinations\n",
    "\n",
    "combinations = find_combinations(unique_numbers, buh_count)\n",
    "print(combinations)"
   ]
  }
 ],
 "metadata": {
  "kernelspec": {
   "display_name": "Python 3",
   "language": "python",
   "name": "python3"
  },
  "language_info": {
   "codemirror_mode": {
    "name": "ipython",
    "version": 3
   },
   "file_extension": ".py",
   "mimetype": "text/x-python",
   "name": "python",
   "nbconvert_exporter": "python",
   "pygments_lexer": "ipython3",
   "version": "3.10.11"
  }
 },
 "nbformat": 4,
 "nbformat_minor": 2
}
